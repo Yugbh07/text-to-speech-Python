{
 "cells": [
  {
   "cell_type": "code",
   "execution_count": 2,
   "id": "664e782a-8c78-49c0-aa4c-aaf9e7ae8e0e",
   "metadata": {},
   "outputs": [
    {
     "name": "stdin",
     "output_type": "stream",
     "text": [
      "Enter the Text helooo\n"
     ]
    },
    {
     "data": {
      "text/plain": [
       "0"
      ]
     },
     "execution_count": 2,
     "metadata": {},
     "output_type": "execute_result"
    }
   ],
   "source": [
    "from gtts import gTTS\n",
    "import os\n",
    "\n",
    "text=input(\"Enter the Text\")\n",
    "language = 'en'\n",
    "\n",
    "speech = gTTS(text=text, lang=language, slow=True)\n",
    "speech.save(\"output.mp3\")\n",
    "\n",
    "os.system(\"start output.mp3\") "
   ]
  }
 ],
 "metadata": {
  "kernelspec": {
   "display_name": "Python 3 (ipykernel)",
   "language": "python",
   "name": "python3"
  },
  "language_info": {
   "codemirror_mode": {
    "name": "ipython",
    "version": 3
   },
   "file_extension": ".py",
   "mimetype": "text/x-python",
   "name": "python",
   "nbconvert_exporter": "python",
   "pygments_lexer": "ipython3",
   "version": "3.11.8"
  }
 },
 "nbformat": 4,
 "nbformat_minor": 5
}
